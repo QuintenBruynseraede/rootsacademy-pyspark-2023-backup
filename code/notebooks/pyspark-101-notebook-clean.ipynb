{
 "cells": [
  {
   "cell_type": "markdown",
   "id": "5b32ac1a",
   "metadata": {},
   "source": [
    "# Introduction\n",
    "\n",
    "This notebook serves as as easy dive-in into spark. It will hold your hand into learning spark, giving you all the information you need to actually use spark in your work.\n",
    "\n",
    "We refer to some sections of the book _Spark, the Definitive Guide_ if you want to learn more about certain topics. Don't hesitate to read the [PySpark documentation](https://spark.apache.org/docs/latest/api/python/reference/index.html) which contains a lot of information about already existing methods. "
   ]
  },
  {
   "cell_type": "markdown",
   "id": "a7215678",
   "metadata": {},
   "source": [
    "# Install PySpark"
   ]
  },
  {
   "cell_type": "code",
   "execution_count": null,
   "id": "54c1f7c8",
   "metadata": {},
   "outputs": [],
   "source": [
    "!pip3 install pyspark"
   ]
  },
  {
   "cell_type": "markdown",
   "id": "d85fe391",
   "metadata": {},
   "source": [
    "# Run spark\n",
    "\n",
    "Let's create a spark session to start loading data."
   ]
  },
  {
   "cell_type": "code",
   "execution_count": null,
   "id": "bd6507be",
   "metadata": {},
   "outputs": [],
   "source": [
    "from pyspark.sql import SparkSession\n",
    "\n",
    "spark = SparkSession.builder.getOrCreate()"
   ]
  },
  {
   "cell_type": "markdown",
   "id": "b8fbc4a1",
   "metadata": {},
   "source": [
    "## SparkUI\n",
    "\n",
    "Some stuff about spark ui."
   ]
  },
  {
   "cell_type": "code",
   "execution_count": null,
   "id": "40ff671f",
   "metadata": {},
   "outputs": [],
   "source": [
    "spark"
   ]
  },
  {
   "cell_type": "markdown",
   "id": "bed0b3b7",
   "metadata": {},
   "source": [
    "# Spark basics"
   ]
  },
  {
   "cell_type": "markdown",
   "id": "c0bfbda4",
   "metadata": {},
   "source": [
    "Read the player data from the player csv table and print its schema. See _Basics of Reading Data_ (pg. 161)."
   ]
  },
  {
   "cell_type": "code",
   "execution_count": null,
   "id": "293aa552",
   "metadata": {},
   "outputs": [],
   "source": []
  },
  {
   "cell_type": "markdown",
   "id": "0754c501",
   "metadata": {},
   "source": [
    "Select the _player_name_ column. There are multiple ways to select a column, see _Columns_ (pg. 68)\n",
    "\n",
    "Create two additional columns where the first column is the name of the player and the second is its surname. Now select all players whose are Quinten or Paolo. Don't forget you need to import functions from the [PySpark sql functions api](https://spark.apache.org/docs/latest/api/python/reference/pyspark.sql.html#functions)."
   ]
  },
  {
   "cell_type": "code",
   "execution_count": null,
   "id": "47962541",
   "metadata": {},
   "outputs": [],
   "source": []
  },
  {
   "cell_type": "markdown",
   "id": "ec7dc746",
   "metadata": {},
   "source": [
    "Now let's get back to the player dataset. Let's extract the tallest player and the lightest player."
   ]
  },
  {
   "cell_type": "code",
   "execution_count": null,
   "id": "dc9b29af",
   "metadata": {},
   "outputs": [],
   "source": []
  },
  {
   "cell_type": "markdown",
   "id": "cdeac037",
   "metadata": {},
   "source": [
    "Now load the player attributes and inspect the data. Is it clean?\n",
    "If not assume the following:\n",
    "   1. duplicates of column __player_api_id__ can be _dropped_,\n",
    "   2. null values can be replaced with 0."
   ]
  },
  {
   "cell_type": "code",
   "execution_count": null,
   "id": "4eb9c0ad",
   "metadata": {},
   "outputs": [],
   "source": []
  },
  {
   "cell_type": "markdown",
   "id": "70f9c794",
   "metadata": {},
   "source": [
    "Now join each player's attributes with their name from the _player_ table. If you are unsure about which join to use, think about what you can do with attributes with no player or player with no attributes (See Chap. 8 __Joins__). \n",
    "\n",
    "_Tip_: first investigate how the player attributes table and the player name table are constructed."
   ]
  },
  {
   "cell_type": "code",
   "execution_count": null,
   "id": "32cbbe3d",
   "metadata": {},
   "outputs": [],
   "source": []
  },
  {
   "cell_type": "code",
   "execution_count": null,
   "id": "5e65f5be",
   "metadata": {},
   "outputs": [],
   "source": []
  },
  {
   "cell_type": "markdown",
   "id": "2e903f9e",
   "metadata": {},
   "source": [
    "Based on the attributes you now have, select 4 combinaisons of numerical attributes that you think a goalkeeper, a defensor, a midfielder and a striker should have to be a good player and compute the mean.\n",
    "\n",
    "\n",
    "Ex. :\n",
    " * Goalkeeper -> gk_diving, gk_handling, gk_kicking, gk_positioning, gk_reflexes\n",
    " * defensor -> defensive_work_rate, sliding_tackle, standing_tackle, marking, interceptions, long_passing\n",
    " * midfielder -> attacking_work_rate, defensive_work_rate, short_passing, ball_control, stamina\n",
    " * striker -> acceleration, sprint_speed, attacking_work_rate, finishing, heading_accuracy, dribbling"
   ]
  },
  {
   "cell_type": "code",
   "execution_count": null,
   "id": "fd1f1684",
   "metadata": {},
   "outputs": [],
   "source": []
  },
  {
   "cell_type": "markdown",
   "id": "acac06f1",
   "metadata": {},
   "source": [
    "Now that you have some new ratings for the players, let's create a alternative potential column based on those new ratings. If any of the ratings the players receive are higher than 85, then the column _high_potential_ should be marked as _True_.\n",
    "\n",
    "_Tip_: use the [_when/otherwise_ function](https://spark.apache.org/docs/2.4.0/api/python/pyspark.sql.html#pyspark.sql.functions.when)"
   ]
  },
  {
   "cell_type": "code",
   "execution_count": null,
   "id": "b36e8cb3",
   "metadata": {},
   "outputs": [],
   "source": []
  },
  {
   "cell_type": "code",
   "execution_count": null,
   "id": "a1abc592",
   "metadata": {},
   "outputs": [],
   "source": []
  },
  {
   "cell_type": "markdown",
   "id": "c2f9f76a",
   "metadata": {},
   "source": [
    "Great! You are now ready to start the project! Good luck."
   ]
  },
  {
   "cell_type": "code",
   "execution_count": null,
   "id": "2f74458e",
   "metadata": {},
   "outputs": [],
   "source": []
  }
 ],
 "metadata": {
  "kernelspec": {
   "display_name": "Python 3 (ipykernel)",
   "language": "python",
   "name": "python3"
  },
  "language_info": {
   "codemirror_mode": {
    "name": "ipython",
    "version": 3
   },
   "file_extension": ".py",
   "mimetype": "text/x-python",
   "name": "python",
   "nbconvert_exporter": "python",
   "pygments_lexer": "ipython3",
   "version": "3.9.8"
  }
 },
 "nbformat": 4,
 "nbformat_minor": 5
}
